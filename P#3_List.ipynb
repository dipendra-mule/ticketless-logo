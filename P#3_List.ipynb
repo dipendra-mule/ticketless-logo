{
  "cells": [
    {
      "cell_type": "markdown",
      "metadata": {
        "id": "Pdmpctk4wlFY"
      },
      "source": [
        "# Working with List\n"
      ]
    },
    {
      "cell_type": "markdown",
      "metadata": {
        "id": "HgX6vbKmwlFa"
      },
      "source": [
        "## Creating a list"
      ]
    },
    {
      "cell_type": "code",
      "execution_count": null,
      "metadata": {
        "id": "ln32YwiXwlFb"
      },
      "outputs": [],
      "source": [
        "#<Variable name > = []\n",
        "#List1 = []\n",
        "members = []"
      ]
    },
    {
      "cell_type": "markdown",
      "metadata": {
        "id": "Bk13E-SawlFe"
      },
      "source": [
        "### Creating a list with values"
      ]
    },
    {
      "cell_type": "code",
      "execution_count": null,
      "metadata": {
        "id": "md82Om2ZwlFe",
        "outputId": "ffef099d-e44e-4111-f7c3-ad742c78acb3"
      },
      "outputs": [
        {
          "data": {
            "text/plain": [
              "['marathi', 'hindi', 'english']"
            ]
          },
          "execution_count": 4,
          "metadata": {},
          "output_type": "execute_result"
        }
      ],
      "source": [
        "# A list contains comma-separated values.\n",
        "sub=['marathi', 'hindi', 'english'] \n",
        "sub"
      ]
    },
    {
      "cell_type": "markdown",
      "metadata": {
        "id": "-KixYEGnwlFf"
      },
      "source": [
        "### Indexing"
      ]
    },
    {
      "cell_type": "code",
      "execution_count": null,
      "metadata": {
        "id": "hR_Agq5qwlFf",
        "outputId": "40490f3c-d567-4332-a62f-59647629ef6b"
      },
      "outputs": [
        {
          "name": "stdout",
          "output_type": "stream",
          "text": [
            "hindi\n"
          ]
        }
      ],
      "source": [
        "# Indexing in the list\n",
        "print(sub[1])"
      ]
    },
    {
      "cell_type": "markdown",
      "metadata": {
        "id": "XslVXI7_wlFg"
      },
      "source": [
        "### Unpacking list values"
      ]
    },
    {
      "cell_type": "code",
      "execution_count": null,
      "metadata": {
        "id": "cXtjPhzUwlFh",
        "outputId": "bdf48cab-8f6c-470b-b501-26219b3c6085"
      },
      "outputs": [
        {
          "name": "stdout",
          "output_type": "stream",
          "text": [
            "marathi hindi\n"
          ]
        }
      ],
      "source": [
        "\n",
        "# You can assign a list value to variables by using the assignment operator.\n",
        "sub = ['marathi', 'hindi', 'english']\n",
        "m, h, e = sub\n",
        "print(m, h)\n",
        "# Below is the example to understand unpacking\n",
        "# age,movie,man,rating = detail\n"
      ]
    },
    {
      "cell_type": "markdown",
      "metadata": {
        "id": "KwMiUIFRwlFj"
      },
      "source": [
        "# List operations\n",
        "### Accessing list values"
      ]
    },
    {
      "cell_type": "code",
      "execution_count": null,
      "metadata": {
        "id": "NDfwKnEqwlFk",
        "outputId": "9f666ad6-a609-4fa7-fc61-f96c66cdb82c"
      },
      "outputs": [
        {
          "name": "stdout",
          "output_type": "stream",
          "text": [
            "hulk\n"
          ]
        }
      ],
      "source": [
        "# In order to access list value, use list name with positional index in square bracket.\n",
        "movies = ['avengers', 'hulk', 'spider-man']\n",
        "print(movies[1])"
      ]
    },
    {
      "cell_type": "markdown",
      "metadata": {
        "id": "tIt7DzN_wlFm"
      },
      "source": [
        "### Slicing the list"
      ]
    },
    {
      "cell_type": "code",
      "execution_count": null,
      "metadata": {
        "id": "HyGQs3cZwlFm",
        "outputId": "39b371ab-0206-4764-a4f3-886553b0c863"
      },
      "outputs": [
        {
          "name": "stdout",
          "output_type": "stream",
          "text": [
            "['avengers', 'hulk', 'spider-man', 'hulk2', 'spider-man3']\n"
          ]
        }
      ],
      "source": [
        "# The slicing of a list is the same as we did in lists.\n",
        "movies = ['avengers', 'hulk', 'spider-man',  'hulk2', 'spider-man3']\n",
        "# print(movies[0:2])\n",
        "# print(movies[:])\n",
        "# print(movies[::2])\n",
        "print(movies[::1])"
      ]
    },
    {
      "cell_type": "markdown",
      "metadata": {
        "id": "yIqym2aNwlFn"
      },
      "source": [
        "\n",
        "### Updating the list"
      ]
    },
    {
      "cell_type": "code",
      "execution_count": null,
      "metadata": {
        "id": "erKnOkTHwlFn",
        "outputId": "e9b967c6-31ac-4aa4-caba-046d81bc4c2d"
      },
      "outputs": [
        {
          "name": "stdout",
          "output_type": "stream",
          "text": [
            "['avengers', 'hulk', 'spider-man', 'hulk2', 'spider-man3']\n",
            "['avengers', 'hulk', 'spider-man', 'hulk2', 'Venom']\n"
          ]
        }
      ],
      "source": [
        "# Lists are mutable, so the values of a list can be updated.\n",
        "movies = ['avengers', 'hulk', 'spider-man',  'hulk2', 'spider-man3']\n",
        "print(movies)\n",
        "movies[-1] = 'Venom'\n",
        "print(movies)"
      ]
    },
    {
      "cell_type": "markdown",
      "metadata": {
        "id": "_tEd0MXrwlFo"
      },
      "source": [
        "### Deleting values from a list"
      ]
    },
    {
      "cell_type": "code",
      "execution_count": null,
      "metadata": {
        "id": "bguU7UNDwlFo",
        "outputId": "5ea25ada-b579-4163-ecea-dd9dc83d6965"
      },
      "outputs": [
        {
          "name": "stdout",
          "output_type": "stream",
          "text": [
            "['avengers', 'hulk', 'spider-man', 'hulk2', 'spider-man3']\n",
            "['avengers', 'hulk', 'hulk2', 'spider-man3']\n"
          ]
        }
      ],
      "source": [
        "# By using the del keyword, you can delete a value or a slice of list from the list.\n",
        "movies = ['avengers', 'hulk', 'spider-man',  'hulk2', 'spider-man3']\n",
        "print(movies)\n",
        "del movies[2]\n",
        "print(movies)"
      ]
    },
    {
      "cell_type": "markdown",
      "metadata": {
        "id": "cccZol4owlFp"
      },
      "source": [
        "### Addition of Python lists"
      ]
    },
    {
      "cell_type": "code",
      "execution_count": null,
      "metadata": {
        "id": "HLHwca9owlFp",
        "outputId": "0b1bb82e-8b2e-442d-ab20-bb174f686e0e"
      },
      "outputs": [
        {
          "name": "stdout",
          "output_type": "stream",
          "text": [
            "['asd', 'zxc', 'aqq', 'zxc', 'ws', 'aws']\n"
          ]
        }
      ],
      "source": [
        "# You can add two lists by using the + operator.\n",
        "# list1 = [2, 5, 10, 11, 2]\n",
        "# list2 = [54, 21, 14, 29]\n",
        "# list3 = list1 + list2\n",
        "# print(list3)\n",
        "li = ['asd', 'zxc', 'aqq']\n",
        "lk = ['zxc', \"ws\", \"aws\"]\n",
        "print(li + lk)\n"
      ]
    },
    {
      "cell_type": "markdown",
      "metadata": {
        "id": "vN6hS7PSwlFq"
      },
      "source": [
        "### Multiplication of lists"
      ]
    },
    {
      "cell_type": "code",
      "execution_count": null,
      "metadata": {
        "id": "Iv_SLwHawlFq",
        "outputId": "5a28626c-6833-43c3-cb91-c676422aafd1"
      },
      "outputs": [
        {
          "name": "stdout",
          "output_type": "stream",
          "text": [
            "['asd', 'zxc', 'aqq', 'asd', 'zxc', 'aqq']\n"
          ]
        }
      ],
      "source": [
        "li = ['asd', 'zxc', 'aqq']\n",
        "lk = ['zxc', \"ws\", \"aws\"]\n",
        "print(li * 2)\n"
      ]
    },
    {
      "cell_type": "markdown",
      "metadata": {
        "id": "JLYTuVFawlFr"
      },
      "source": [
        "### in operator"
      ]
    },
    {
      "cell_type": "code",
      "execution_count": null,
      "metadata": {
        "id": "eL2u-H1JwlFr",
        "outputId": "825e2e90-f65c-434f-b3ea-89baf0aa56a2"
      },
      "outputs": [
        {
          "name": "stdout",
          "output_type": "stream",
          "text": [
            "Not available\n"
          ]
        }
      ],
      "source": [
        "# You can use the in operator on list with the if statement.\n",
        "pizza = ['cheese', 'farmers choice', 'barbaque', 'parmesan', 'mozarella']\n",
        "if 'parmesa' in pizza:\n",
        "    print(\"Ohn it's available\")\n",
        "else:\n",
        "    print(\"Not available\")\n"
      ]
    },
    {
      "cell_type": "markdown",
      "metadata": {
        "id": "FrSSsQ4CwlFs"
      },
      "source": [
        "## List functions"
      ]
    },
    {
      "cell_type": "markdown",
      "metadata": {
        "id": "7IAMJ5TnwlFs"
      },
      "source": [
        "### len()"
      ]
    },
    {
      "cell_type": "code",
      "execution_count": null,
      "metadata": {
        "id": "W8eMhl8JwlFt",
        "outputId": "79c9daab-c5f9-4027-93f6-bf0965a25b78"
      },
      "outputs": [
        {
          "name": "stdout",
          "output_type": "stream",
          "text": [
            "5\n"
          ]
        }
      ],
      "source": [
        "# The len() function returns the number of elements or values in the list\n",
        "pizza = ['cheese', 'farmers choice', 'barbaque', 'parmesan', 'mozarella']\n",
        "print(len(pizza))"
      ]
    },
    {
      "cell_type": "markdown",
      "metadata": {
        "id": "ZG-kS5cIwlFt"
      },
      "source": [
        "### max ()"
      ]
    },
    {
      "cell_type": "code",
      "execution_count": null,
      "metadata": {
        "id": "OOret5DuwlFt",
        "outputId": "d0e70d19-f981-4be6-9fd1-b0acbf8446ab"
      },
      "outputs": [
        {
          "name": "stdout",
          "output_type": "stream",
          "text": [
            "521\n"
          ]
        }
      ],
      "source": [
        "# The max (list) function returns the element of the list with the maximum value\n",
        "numbers = [52, 21, 2, 47, 63, 48, 521]\n",
        "print(max(numbers))"
      ]
    },
    {
      "cell_type": "markdown",
      "metadata": {
        "id": "aYwztXrQwlFu"
      },
      "source": [
        "### min()"
      ]
    },
    {
      "cell_type": "code",
      "execution_count": null,
      "metadata": {
        "id": "FAyue9FTwlFu",
        "outputId": "5ae9918a-7b3b-4084-c5de-1c2040a3911b"
      },
      "outputs": [
        {
          "name": "stdout",
          "output_type": "stream",
          "text": [
            "2\n"
          ]
        }
      ],
      "source": [
        "# The min function returns the minimum value from the list\n",
        "numbers = [52, 21, 2, 47, 63, 48, 521]\n",
        "print(min(numbers))"
      ]
    },
    {
      "cell_type": "markdown",
      "metadata": {
        "id": "zf47CykOwlFu"
      },
      "source": [
        "### list ()"
      ]
    },
    {
      "cell_type": "code",
      "execution_count": null,
      "metadata": {
        "id": "tsuYW1yywlFv",
        "outputId": "ea504bd9-d73c-4ce9-b2ae-24d5c354efd3"
      },
      "outputs": [
        {
          "name": "stdout",
          "output_type": "stream",
          "text": [
            "<class 'tuple'>\n",
            "[5, 2, 1, 74, 36]\n"
          ]
        }
      ],
      "source": [
        "# The list function converts the sequence into a list.\n",
        "tup = (5, 2, 1, 74, 36)\n",
        "print(type(tup))\n",
        "lis = list(tup)\n",
        "print(lis)"
      ]
    },
    {
      "cell_type": "markdown",
      "metadata": {
        "id": "ZDlL_xvQwlFv"
      },
      "source": [
        "### sorted ()"
      ]
    },
    {
      "cell_type": "code",
      "execution_count": null,
      "metadata": {
        "id": "AASfbbgAwlFv",
        "outputId": "d86538f2-3b29-43a4-c10d-0aab225b56f1"
      },
      "outputs": [
        {
          "name": "stdout",
          "output_type": "stream",
          "text": [
            "[521, 63, 52, 48, 47, 21, 2]\n"
          ]
        }
      ],
      "source": [
        "# The sorted () function returns a new sorted list from the values in iterable.\n",
        "numbers = [52, 21, 2, 47, 63, 48, 521]\n",
        "print(sorted(numbers, reverse=True))"
      ]
    },
    {
      "cell_type": "markdown",
      "metadata": {
        "id": "T-Muebg7wlFw"
      },
      "source": [
        "## List methods"
      ]
    },
    {
      "cell_type": "markdown",
      "metadata": {
        "id": "xQRkqia8wlFw"
      },
      "source": [
        "### append ()"
      ]
    },
    {
      "cell_type": "code",
      "execution_count": null,
      "metadata": {
        "id": "3kd8B76PwlFx",
        "outputId": "f29ccb46-50ce-49b4-a4dc-30522df6bce8"
      },
      "outputs": [
        {
          "name": "stdout",
          "output_type": "stream",
          "text": [
            "[52, 21, 2, 47, 63, 48, 521]\n",
            "[52, 21, 2, 47, 63, 48, 521, 124]\n",
            "[52, 21, 2, 47, 63, 48, 521, 124, 581]\n"
          ]
        }
      ],
      "source": [
        "# The method adds a value at the end of the list.\n",
        "numbers = [52, 21, 2, 47, 63, 48, 521]\n",
        "print(numbers)\n",
        "numbers.append(124)\n",
        "print(numbers)\n",
        "numbers.append(581)\n",
        "print(numbers)"
      ]
    },
    {
      "cell_type": "markdown",
      "metadata": {
        "id": "ZKKI9ulswlFx"
      },
      "source": [
        "### extend ()"
      ]
    },
    {
      "cell_type": "code",
      "execution_count": null,
      "metadata": {
        "id": "D2joXH-nwlFy",
        "outputId": "a78c14b6-6fac-47bb-ac80-3244645d6ac0"
      },
      "outputs": [
        {
          "name": "stdout",
          "output_type": "stream",
          "text": [
            "[52, 21, 2, 47, 63, 48, 521]\n",
            "[52, 21, 2, 47, 63, 48, 521, 5]\n"
          ]
        }
      ],
      "source": [
        "\n",
        "# team_ironman.append(team_cap)\n",
        "# print(team_ironman)\n",
        "numbers = [52, 21, 2, 47, 63, 48, 521]\n",
        "print(numbers)\n",
        "numbers.extend([5])\n",
        "print(numbers)"
      ]
    },
    {
      "cell_type": "code",
      "execution_count": null,
      "metadata": {
        "id": "M1mT4bjQwlFy"
      },
      "outputs": [],
      "source": [
        "\n"
      ]
    },
    {
      "cell_type": "markdown",
      "metadata": {
        "id": "YWOvNel0wlFz"
      },
      "source": [
        "### Difference between append and extend"
      ]
    },
    {
      "cell_type": "code",
      "execution_count": null,
      "metadata": {
        "id": "XFdrTdOcwlFz",
        "outputId": "017e3e96-cfe4-433d-b087-8a7192ba4b20"
      },
      "outputs": [
        {
          "name": "stdout",
          "output_type": "stream",
          "text": [
            "['iron man', 'black panther', 'spider man', ['captain america', 'hulk', 'hawk eye']]\n",
            "['iron man', 'black panther', 'spider man', 'captain america', 'hulk', 'hawk eye']\n"
          ]
        }
      ],
      "source": [
        "# append adds another list within list\n",
        "\n",
        "iron = ['iron man', 'black panther', 'spider man']\n",
        "cap = ['captain america', 'hulk', 'hawk eye']\n",
        "iron.append(cap)\n",
        "print(iron)\n",
        "\n",
        "iron = ['iron man', 'black panther', 'spider man']\n",
        "cap = ['captain america', 'hulk', 'hawk eye']\n",
        "iron.extend(cap)\n",
        "print(iron)\n",
        "# extend adds another list with list"
      ]
    },
    {
      "cell_type": "markdown",
      "metadata": {
        "id": "qdHr_UAXwlF0"
      },
      "source": [
        "### insert()"
      ]
    },
    {
      "cell_type": "code",
      "execution_count": null,
      "metadata": {
        "id": "hstyKl9ewlF0",
        "outputId": "581b0f9b-99ac-4fdd-b908-4fd4aa4269a2"
      },
      "outputs": [
        {
          "name": "stdout",
          "output_type": "stream",
          "text": [
            "['iron man', 'black panther', 'spider man']\n",
            "['Venom', 'iron man', 'black panther', 'spider man']\n"
          ]
        }
      ],
      "source": [
        "# team_ironman.insert(pos, \"value\")\n",
        "iron = ['iron man', 'black panther', 'spider man']\n",
        "print(iron)\n",
        "iron.insert(0, 'Venom')\n",
        "print(iron)"
      ]
    },
    {
      "cell_type": "markdown",
      "metadata": {
        "id": "Msf6d8v0wlF0"
      },
      "source": [
        "### count ()"
      ]
    },
    {
      "cell_type": "code",
      "execution_count": null,
      "metadata": {
        "id": "An4_mGeJwlF0",
        "outputId": "940a92e7-c007-481b-e0bf-e7c6e76de595"
      },
      "outputs": [
        {
          "name": "stdout",
          "output_type": "stream",
          "text": [
            "1\n"
          ]
        }
      ],
      "source": [
        "# The count () method is used to find the occurrence of an item in a list.\n",
        "iron = ['iron man', 'black panther', 'spider man']\n",
        "print(iron.count('iron man'))"
      ]
    },
    {
      "cell_type": "markdown",
      "metadata": {
        "id": "f-bRtLmPwlF0"
      },
      "source": [
        "### index ()"
      ]
    },
    {
      "cell_type": "code",
      "execution_count": null,
      "metadata": {
        "id": "FAuEo52mwlF0",
        "outputId": "ac35f2f2-533b-4d58-f1c3-5912d1c2d4e7"
      },
      "outputs": [
        {
          "name": "stdout",
          "output_type": "stream",
          "text": [
            "1\n"
          ]
        }
      ],
      "source": [
        "# The index () method is used to find the index of a particular item in a list.\n",
        "iron = ['iron man', 'black panther', 'spider man']\n",
        "print(iron.index('black panther'))"
      ]
    },
    {
      "cell_type": "markdown",
      "metadata": {
        "id": "sFxGDl_MwlF2"
      },
      "source": [
        "### remove()"
      ]
    },
    {
      "cell_type": "code",
      "execution_count": null,
      "metadata": {
        "id": "vQyYMtBFwlF2",
        "outputId": "9995335a-bedb-40ea-fd7c-cb82c02c3c0f"
      },
      "outputs": [
        {
          "name": "stdout",
          "output_type": "stream",
          "text": [
            "['iron man', 'black panther', 'spider man', 'spider man', 'spider man']\n",
            "['iron man', 'black panther', 'spider man', 'spider man']\n"
          ]
        }
      ],
      "source": [
        "# The remove () method is used to remove an value from a list.\n",
        "iron = ['iron man', 'black panther', 'spider man', 'spider man', 'spider man']\n",
        "print(iron)\n",
        "iron.remove('spider man')\n",
        "print(iron)"
      ]
    },
    {
      "cell_type": "markdown",
      "metadata": {
        "id": "La2USwHLwlF3"
      },
      "source": [
        "### pop()"
      ]
    },
    {
      "cell_type": "code",
      "execution_count": null,
      "metadata": {
        "id": "R1XaLpqawlF3",
        "outputId": "1c835ac9-8548-4c47-a257-aca702c3a42f"
      },
      "outputs": [
        {
          "name": "stdout",
          "output_type": "stream",
          "text": [
            "['iron man', 'black panther', 'spider man']\n",
            "['black panther', 'spider man']\n"
          ]
        }
      ],
      "source": [
        "# If you want to see a removed item, you can use the pop () method.\n",
        "# The pop () method removes and returns the last item from the list.\n",
        "iron = ['iron man', 'black panther', 'spider man']\n",
        "print(iron)\n",
        "# iron.pop()\n",
        "# print(iron)\n",
        "# iron.pop()\n",
        "# print(iron)\n",
        "\n",
        "# pop using position\n",
        "iron.pop(0)\n",
        "print(iron)\n",
        "\n"
      ]
    },
    {
      "cell_type": "markdown",
      "metadata": {
        "id": "gge0wUpvwlF4"
      },
      "source": [
        "### sort()"
      ]
    },
    {
      "cell_type": "code",
      "execution_count": null,
      "metadata": {
        "id": "_u7JiJjuwlF4",
        "outputId": "db0e8076-f03f-4d63-98f0-950d31de683a"
      },
      "outputs": [
        {
          "name": "stdout",
          "output_type": "stream",
          "text": [
            "['iron man', 'black panther', 'spider man']\n",
            "['black panther', 'iron man', 'spider man']\n"
          ]
        }
      ],
      "source": [
        "# organising or sorting list items\n",
        "# temp.remove('4')\n",
        "iron = ['iron man', 'black panther', 'spider man']\n",
        "print(iron)\n",
        "iron.sort()\n",
        "print(iron)\n",
        "# sorting the list items using reverse\n",
        "\n"
      ]
    },
    {
      "cell_type": "markdown",
      "metadata": {
        "id": "N4829hV4wlF4"
      },
      "source": [
        "### reverse()"
      ]
    },
    {
      "cell_type": "code",
      "execution_count": null,
      "metadata": {
        "id": "BOvsr8gTwlF4",
        "outputId": "1bb43642-b188-4cea-c00a-906271c10454"
      },
      "outputs": [
        {
          "name": "stdout",
          "output_type": "stream",
          "text": [
            "['iron man', 'black panther', 'spider man']\n",
            "['spider man', 'black panther', 'iron man']\n"
          ]
        }
      ],
      "source": [
        "# The reverse() method reverses the items of a list.\n",
        "iron = ['iron man', 'black panther', 'spider man']\n",
        "print(iron)\n",
        "iron.reverse()\n",
        "print(iron)"
      ]
    },
    {
      "cell_type": "markdown",
      "metadata": {
        "id": "HprSZE94wlF4"
      },
      "source": [
        "### List comprehension"
      ]
    },
    {
      "cell_type": "code",
      "execution_count": null,
      "metadata": {
        "id": "Lesop9dFwlF4"
      },
      "outputs": [],
      "source": [
        "# Also known as one line code\n",
        "\n"
      ]
    },
    {
      "cell_type": "markdown",
      "metadata": {
        "id": "ho19EHhcwlF6"
      },
      "source": [
        "### Copying a list"
      ]
    },
    {
      "cell_type": "code",
      "execution_count": null,
      "metadata": {
        "id": "eJ-J7mH5wlF6",
        "outputId": "0d59e15e-96e4-4b66-f9b1-76f3a9ff860d"
      },
      "outputs": [
        {
          "name": "stdout",
          "output_type": "stream",
          "text": [
            "['iron man', 'black panther', 'spider man']\n",
            "['iron man', 'black panther', 'spider man']\n"
          ]
        }
      ],
      "source": [
        "# copy values from another list to create a new list\n",
        "iron = ['iron man', 'black panther', 'spider man']\n",
        "print(iron)\n",
        "temp = iron.copy()\n",
        "print(temp)"
      ]
    },
    {
      "cell_type": "markdown",
      "metadata": {
        "id": "dt_mih0-wlF6"
      },
      "source": [
        "### Avoiding errors"
      ]
    },
    {
      "cell_type": "code",
      "execution_count": null,
      "metadata": {
        "id": "SrCbOfr2wlF6",
        "outputId": "16e06088-5789-4e1c-9788-cc67c4741124"
      },
      "outputs": [
        {
          "name": "stdout",
          "output_type": "stream",
          "text": [
            "['iron man', 'black panther', 'spider man']\n"
          ]
        },
        {
          "ename": "IndexError",
          "evalue": "pop index out of range",
          "output_type": "error",
          "traceback": [
            "\u001b[0;31m---------------------------------------------------------------------------\u001b[0m",
            "\u001b[0;31mIndexError\u001b[0m                                Traceback (most recent call last)",
            "\u001b[0;32m/tmp/ipykernel_13795/151366695.py\u001b[0m in \u001b[0;36m<module>\u001b[0;34m\u001b[0m\n\u001b[1;32m      3\u001b[0m \u001b[0mprint\u001b[0m\u001b[0;34m(\u001b[0m\u001b[0miron\u001b[0m\u001b[0;34m)\u001b[0m\u001b[0;34m\u001b[0m\u001b[0;34m\u001b[0m\u001b[0m\n\u001b[1;32m      4\u001b[0m \u001b[0;34m\u001b[0m\u001b[0m\n\u001b[0;32m----> 5\u001b[0;31m \u001b[0miron\u001b[0m\u001b[0;34m.\u001b[0m\u001b[0mpop\u001b[0m\u001b[0;34m(\u001b[0m\u001b[0;36m5\u001b[0m\u001b[0;34m)\u001b[0m\u001b[0;34m\u001b[0m\u001b[0;34m\u001b[0m\u001b[0m\n\u001b[0m\u001b[1;32m      6\u001b[0m \u001b[0mprint\u001b[0m\u001b[0;34m(\u001b[0m\u001b[0miron\u001b[0m\u001b[0;34m)\u001b[0m\u001b[0;34m\u001b[0m\u001b[0;34m\u001b[0m\u001b[0m\n\u001b[1;32m      7\u001b[0m \u001b[0;34m\u001b[0m\u001b[0m\n",
            "\u001b[0;31mIndexError\u001b[0m: pop index out of range"
          ]
        }
      ],
      "source": [
        "# index out of range\n",
        "iron = ['iron man', 'black panther', 'spider man']\n",
        "print(iron)\n",
        "\n",
        "iron.pop(5)\n",
        "print(iron)\n",
        "\n",
        "# unnecessary indentation\n",
        "\n",
        "# logical error\n",
        "\n",
        "# index out of range in loop\n",
        "\n",
        "# unnecessary indentation in loop\n",
        "\n",
        "# logical error in loop\n",
        "\n",
        "    "
      ]
    },
    {
      "cell_type": "code",
      "execution_count": null,
      "metadata": {
        "id": "DpdPeLCtwlF6"
      },
      "outputs": [],
      "source": [
        "\n",
        "\n",
        "\n",
        "\n",
        "\n",
        "\n",
        "\n"
      ]
    }
  ],
  "metadata": {
    "kernelspec": {
      "display_name": "Python 3 (ipykernel)",
      "language": "python",
      "name": "python3"
    },
    "language_info": {
      "codemirror_mode": {
        "name": "ipython",
        "version": 3
      },
      "file_extension": ".py",
      "mimetype": "text/x-python",
      "name": "python",
      "nbconvert_exporter": "python",
      "pygments_lexer": "ipython3",
      "version": "3.7.10"
    },
    "colab": {
      "name": "List.ipynb",
      "provenance": []
    }
  },
  "nbformat": 4,
  "nbformat_minor": 0
}