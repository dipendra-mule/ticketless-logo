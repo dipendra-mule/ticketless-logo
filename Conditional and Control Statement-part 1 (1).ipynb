{
 "cells": [
  {
   "cell_type": "markdown",
   "metadata": {},
   "source": [
    "# Conditional and Control Statements"
   ]
  },
  {
   "cell_type": "markdown",
   "metadata": {},
   "source": [
    "## In Python, the conditional statements are used to get the desired results with the help of a condition to get the expected output"
   ]
  },
  {
   "cell_type": "code",
   "execution_count": 4,
   "metadata": {},
   "outputs": [
    {
     "name": "stdout",
     "output_type": "stream",
     "text": [
      "Congratualtions you are eligible to vote\n"
     ]
    }
   ],
   "source": [
    "#Consider the following example:\n",
    "\n",
    "#User wants to check whether he/she is eligible to vote or not?\n",
    "age = 24\n",
    "if age > 18:\n",
    "    print(\"Congratualtions you are eligible to vote\")\n"
   ]
  },
  {
   "cell_type": "markdown",
   "metadata": {},
   "source": [
    "## Accepting values from user"
   ]
  },
  {
   "cell_type": "code",
   "execution_count": 7,
   "metadata": {},
   "outputs": [
    {
     "name": "stdout",
     "output_type": "stream",
     "text": [
      "Enter your age5\n"
     ]
    }
   ],
   "source": [
    "#In order to accept the values you will need the help of input key.\n",
    "age = int(input(\"Enter your age\"))\n",
    "if age > 18:\n",
    "    print(\"Eligible\")\n",
    "#Consider a variable to store age of a person to check whether he/she is eligible to vote?\n"
   ]
  },
  {
   "cell_type": "markdown",
   "metadata": {},
   "source": [
    "## If else condition"
   ]
  },
  {
   "cell_type": "code",
   "execution_count": 14,
   "metadata": {},
   "outputs": [
    {
     "name": "stdout",
     "output_type": "stream",
     "text": [
      "Enter the passwordharsha\n",
      "Access granted\n",
      "Enter your age 5\n",
      "sorry\n"
     ]
    }
   ],
   "source": [
    "#If password is correct then grant access else deny\n",
    "# age = int(input(\"Enter your age\"))\n",
    "# if age > 18:\n",
    "#     print(\"Eligible\")\n",
    "# else:\n",
    "#     print(\"Not eligible\")\n",
    "\n",
    "# password = 'harsha'\n",
    "# inp = input(\"Enter the password\")\n",
    "# if inp == password:\n",
    "#     print(\"Access granted\")\n",
    "# else:\n",
    "#     print(\"Invalid code\")\n",
    "# You can try nested if else\n",
    "\n",
    "\n",
    "password = 'harsha'\n",
    "inp = input(\"Enter the password\")\n",
    "if inp == password:\n",
    "    print(\"Access granted\")\n",
    "    age = int(input('Enter your age '))\n",
    "    if age > 18 :\n",
    "        print(\"congratulation\")\n",
    "    else:\n",
    "        print(\"sorry\")\n",
    "else:\n",
    "    print(\"Invalid code\")"
   ]
  },
  {
   "cell_type": "markdown",
   "metadata": {},
   "source": [
    "## If elif else condition"
   ]
  },
  {
   "cell_type": "code",
   "execution_count": 31,
   "metadata": {},
   "outputs": [
    {
     "name": "stdout",
     "output_type": "stream",
     "text": [
      "enter your age : 5\n"
     ]
    }
   ],
   "source": [
    "# if elif else, you can apply these cases as per the conditions\n",
    "# age = int(input(\"enter your age : \"))\n",
    "# if age >= 80:\n",
    "#     print(\"sending a vehicle\")    \n",
    "# elif age >= 18:\n",
    "#     print(\"Eligible to vote\")\n",
    "# else:\n",
    "#     print(\"Sorry grow up and then come back\")\n",
    "\n",
    "# # you can add multiple elif conditions\n",
    "\n",
    "# age = int(input(\"enter your age : \"))\n",
    "# if age >= 80:\n",
    "#     print(\"Eligible to vote, sending a vehicle\")    \n",
    "# elif age >= 50:\n",
    "#     print(\"Eligible to vote, please come by your own vehicle\")\n",
    "# elif age >= 40:\n",
    "#     print(\"Eligible to vote, please bring your neighbor with you\")        \n",
    "# elif age >= 18:\n",
    "#     print(\"Eligible to vote\")\n",
    "# else:\n",
    "#     print(\"Sorry grow up and then come back\")\n",
    "    \n",
    "# let's try nested if elif else condition\n",
    "\n",
    "# age = int(input(\"enter your age : \"))\n",
    "# if age >= 80:\n",
    "#     print(\"Eligible to vote, sending a vehicle\")\n",
    "#     vehicle = input(\"Do you need vehicle yes or no?\")\n",
    "#     if vehicle == 'yes':\n",
    "#         print(\"vehicle dispatched\")\n",
    "#     elif vehicle == 'no':\n",
    "#         print(\"Jaldi aa jao\")\n",
    "#     elif vehicle != 'yes':\n",
    "#         print(\"invalid choice\")\n",
    "#     elif vehicle != 'no':\n",
    "#         print(\"invalid choice\")\n",
    "#     else:\n",
    "#         print(\"Kuch toh\")\n",
    "# elif age >= 50:\n",
    "#     print(\"Eligible to vote, please come by your own vehicle\")\n",
    "# elif age >= 40:\n",
    "#     print(\"Eligible to vote, please bring your neighbor with you\")        \n",
    "# elif age >= 18:\n",
    "#     print(\"Eligible to vote\")\n",
    "# else:\n",
    "#     print(\"Sorry grow up and then come back\")\n",
    "    \n",
    "# emitting else block\n",
    "\n",
    "age = int(input(\"enter your age : \"))\n",
    "if age >= 80:\n",
    "    print(\"Eligible to vote, sending a vehicle\")\n",
    "elif age >= 50:\n",
    "    print(\"Eligible to vote, please come by your own vehicle\")\n",
    "elif age >= 40:\n",
    "    print(\"Eligible to vote, please bring your neighbor with you\")        \n",
    "elif age >= 18:\n",
    "    print(\"Eligible to vote\")\n",
    "# else if"
   ]
  },
  {
   "cell_type": "markdown",
   "metadata": {},
   "source": [
    "## If Condition with boolean data type"
   ]
  },
  {
   "cell_type": "code",
   "execution_count": 41,
   "metadata": {},
   "outputs": [
    {
     "name": "stdout",
     "output_type": "stream",
     "text": [
      "Enter your passwordas\n",
      "try again\n"
     ]
    }
   ],
   "source": [
    "# return true or false with respect to condition\n",
    "# if True:\n",
    "#     print(\"always true\")\n",
    "\n",
    "# using cases to check values\n",
    "# condition = True\n",
    "# if condition:\n",
    "#     print(\"Congratulations\")\n",
    "    \n",
    "# using cases to check values are equal or not\n",
    "\n",
    "password = 'ashvini'\n",
    "inp = input(\"Enter your password\")\n",
    "if inp == password:\n",
    "    access = True\n",
    "else:\n",
    "    access = False\n",
    "if access:\n",
    "    print(\"granted\")\n",
    "else:\n",
    "    print(\"try again\")\n",
    "# compare numbers\n",
    "\n"
   ]
  },
  {
   "cell_type": "markdown",
   "metadata": {},
   "source": [
    "## In Python, the control statements are used to get the desired results with the help of a series of statements"
   ]
  },
  {
   "cell_type": "markdown",
   "metadata": {},
   "source": [
    "## Loops"
   ]
  },
  {
   "cell_type": "code",
   "execution_count": 47,
   "metadata": {},
   "outputs": [
    {
     "name": "stdout",
     "output_type": "stream",
     "text": [
      "10\n",
      "12\n",
      "14\n",
      "16\n",
      "18\n"
     ]
    }
   ],
   "source": [
    "# Types of loops definite and indefinite\n",
    "# for razik in range(5):\n",
    "#     print(razik)\n",
    "    \n",
    "# range(start value, end value)\n",
    "# for razik in range(10, 15):\n",
    "#     print(razik)\n",
    "    \n",
    "# range(start value, end value, difference between the values)\n",
    "for razik in range(10, 20, 2):\n",
    "    print(razik)\n",
    "# for each in \"vrushali\":\n",
    "#     print(each)\n"
   ]
  },
  {
   "cell_type": "markdown",
   "metadata": {},
   "source": [
    "### Definite Loop"
   ]
  },
  {
   "cell_type": "code",
   "execution_count": 53,
   "metadata": {},
   "outputs": [
    {
     "name": "stdout",
     "output_type": "stream",
     "text": [
      "r\n",
      "a\n",
      "z\n",
      "i\n",
      "k\n"
     ]
    }
   ],
   "source": [
    "# In this loop the set of instructions are executed for number of times\n",
    "\n",
    "# for each in range(5):\n",
    "# #     print(\"Iteration number : \", each)\n",
    "#     print(each * each)\n",
    "# Multiplication with loop\n",
    "\n",
    "# loop with strings\n",
    "for i in \"razik\":\n",
    "    print(i )"
   ]
  },
  {
   "cell_type": "markdown",
   "metadata": {},
   "source": [
    "### Indefinite Loop"
   ]
  },
  {
   "cell_type": "code",
   "execution_count": 58,
   "metadata": {},
   "outputs": [
    {
     "name": "stdout",
     "output_type": "stream",
     "text": [
      "99\n",
      "98\n",
      "97\n",
      "96\n",
      "95\n",
      "94\n",
      "93\n",
      "92\n",
      "91\n",
      "90\n",
      "Game over\n"
     ]
    }
   ],
   "source": [
    "# In this loop the set of instructions are executed until the condition is satisfied\n",
    "# while loop\n",
    "\n",
    "# password = \"enter your password\"\n",
    "# while (password != 'vrushali'):\n",
    "#     if password != 'vrushali':\n",
    "#         password = input(\"Enter your password\")\n",
    "#         print(\"Access denied\")\n",
    "# else:\n",
    "#     print(\"Access granted\")\n",
    "\n",
    "number = 100\n",
    "while number != 90:\n",
    "    number -= 1\n",
    "    print(number)\n",
    "else:\n",
    "    print(\"Game over\")\n"
   ]
  },
  {
   "cell_type": "markdown",
   "metadata": {},
   "source": [
    "### while True and break statement"
   ]
  },
  {
   "cell_type": "code",
   "execution_count": null,
   "metadata": {},
   "outputs": [],
   "source": [
    "# while True\n",
    "\n",
    "# while flag == condition\n",
    "\n",
    "# break statement using if condition\n"
   ]
  },
  {
   "cell_type": "markdown",
   "metadata": {},
   "source": [
    "## Nested Loops"
   ]
  },
  {
   "cell_type": "code",
   "execution_count": null,
   "metadata": {},
   "outputs": [],
   "source": [
    "# Nested loops with list, apply break if condition satisfies\n"
   ]
  },
  {
   "cell_type": "markdown",
   "metadata": {},
   "source": [
    "## continue and pass"
   ]
  },
  {
   "cell_type": "code",
   "execution_count": null,
   "metadata": {},
   "outputs": [],
   "source": [
    "# you can use continue in for loop in case you want to skip that step\n",
    "\n",
    "# pass is used to reserve the step\n",
    "\n"
   ]
  },
  {
   "cell_type": "markdown",
   "metadata": {},
   "source": [
    "# Loops with if condition"
   ]
  },
  {
   "cell_type": "code",
   "execution_count": null,
   "metadata": {},
   "outputs": [],
   "source": [
    "# for loop with if condition, for example display value in list which is greater than 50\n",
    "\n",
    "# display the name of person is upper case if it's present in list\n",
    "\n",
    "    \n"
   ]
  },
  {
   "cell_type": "markdown",
   "metadata": {},
   "source": [
    "## Loops with Lists"
   ]
  },
  {
   "cell_type": "code",
   "execution_count": null,
   "metadata": {},
   "outputs": [],
   "source": [
    "# create a list of values and apply loop on it\n",
    "\n",
    "# check in case of, if list is empty \n",
    "\n",
    "# using multiple lists\n",
    "\n",
    "\n"
   ]
  },
  {
   "cell_type": "code",
   "execution_count": null,
   "metadata": {},
   "outputs": [],
   "source": []
  },
  {
   "cell_type": "code",
   "execution_count": null,
   "metadata": {},
   "outputs": [],
   "source": []
  },
  {
   "cell_type": "code",
   "execution_count": null,
   "metadata": {},
   "outputs": [],
   "source": []
  },
  {
   "cell_type": "code",
   "execution_count": null,
   "metadata": {},
   "outputs": [],
   "source": []
  }
 ],
 "metadata": {
  "kernelspec": {
   "display_name": "Python 3",
   "language": "python",
   "name": "python3"
  },
  "language_info": {
   "codemirror_mode": {
    "name": "ipython",
    "version": 3
   },
   "file_extension": ".py",
   "mimetype": "text/x-python",
   "name": "python",
   "nbconvert_exporter": "python",
   "pygments_lexer": "ipython3",
   "version": "3.7.6"
  }
 },
 "nbformat": 4,
 "nbformat_minor": 4
}
